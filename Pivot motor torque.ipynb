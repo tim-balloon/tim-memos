{
 "cells": [
  {
   "cell_type": "code",
   "execution_count": 31,
   "metadata": {},
   "outputs": [],
   "source": [
    "import numpy as np\n",
    "from astropy import units as u"
   ]
  },
  {
   "cell_type": "code",
   "execution_count": 58,
   "metadata": {},
   "outputs": [],
   "source": [
    "# GLOBALS\n",
    "# Kollmorgen C061A\n",
    "\n",
    "MOTOR_TORQUE = 33.7*u.newton*u.meter\n",
    "# this is the CONTINUOUS torque factor\n",
    "# peak torque is 86.7 N*m\n",
    "\n",
    "BLAST_TORQUE = 30*u.newton*u.meter\n",
    "# from Laura's thesis\n",
    "# \n",
    "\n",
    "# I_GONDOLA = 942*u.kilogram*(u.meter)**2 \n",
    "# Read off of Solidworks model of Ruben's most recently sent FEA files\n",
    "# The above is just the frame (~2000 lbs), missing the IF assembly mass component \n",
    "# back of the envelope estimate suggests adding 1800 kg*m**2 (4000 lbs at r=1m), so\n",
    "I_GONDOLA = 2800*u.kilogram*(u.meter)**2 "
   ]
  },
  {
   "cell_type": "code",
   "execution_count": 59,
   "metadata": {},
   "outputs": [],
   "source": [
    "# T = I*a\n",
    "# -> a = T/I\n",
    "\n",
    "def angular_acceleration(T,I):\n",
    "    a = (T/I).to(u.second**(-2))\n",
    "    conversion_factor = 180/np.pi*u.deg\n",
    "    return a*conversion_factor"
   ]
  },
  {
   "cell_type": "code",
   "execution_count": 60,
   "metadata": {},
   "outputs": [
    {
     "data": {
      "text/latex": [
       "$0.68959563 \\; \\mathrm{\\frac{{}^{\\circ}}{s^{2}}}$"
      ],
      "text/plain": [
       "<Quantity 0.68959563 deg / s2>"
      ]
     },
     "execution_count": 60,
     "metadata": {},
     "output_type": "execute_result"
    }
   ],
   "source": [
    "angular_acceleration(MOTOR_TORQUE,I_GONDOLA)"
   ]
  },
  {
   "cell_type": "code",
   "execution_count": 62,
   "metadata": {},
   "outputs": [
    {
     "data": {
      "text/plain": [
       "\"\\nUpshot:\\n\\nWe roughly modeled TIM's moment of inertia and looked up the torque rating for the pivot motor we ordered \\n(Kollmorgen C061A)\\n\\nFrom this we determined that the motor can turn our gondola with an angular acceleration of 0.69 deg/s/s\\nwhen operating at the continuous torque value.  If we kick it at the maximum torque, this goes up by \\na factor of two.\\n\\nOur pointing scheme requires us to take ~1 second to halt and reverse the 0.1 deg/second azimuthal\\nmotion of the gondola, requiring us to achieve 0.1 deg/s/s.  These calculations suggest that \\nour hardware is sufficient.\\n\\n\""
      ]
     },
     "execution_count": 62,
     "metadata": {},
     "output_type": "execute_result"
    }
   ],
   "source": [
    "\"\"\"\n",
    "Upshot:\n",
    "\n",
    "We roughly modeled TIM's moment of inertia and looked up the torque rating for the pivot motor we ordered \n",
    "(Kollmorgen C061A)\n",
    "\n",
    "From this we determined that the motor can turn our gondola with an angular acceleration of 0.69 deg/s/s\n",
    "when operating at the continuous torque value.  If we kick it at the maximum torque, this goes up by \n",
    "a factor of two.\n",
    "\n",
    "Our pointing scheme requires us to take ~1 second to halt and reverse the 0.1 deg/second azimuthal\n",
    "motion of the gondola, requiring us to achieve 0.1 deg/s/s.  These calculations suggest that \n",
    "our hardware is sufficient.\n",
    "\n",
    "\"\"\""
   ]
  },
  {
   "cell_type": "code",
   "execution_count": null,
   "metadata": {},
   "outputs": [],
   "source": []
  }
 ],
 "metadata": {
  "kernelspec": {
   "display_name": "Python 3",
   "language": "python",
   "name": "python3"
  },
  "language_info": {
   "codemirror_mode": {
    "name": "ipython",
    "version": 3
   },
   "file_extension": ".py",
   "mimetype": "text/x-python",
   "name": "python",
   "nbconvert_exporter": "python",
   "pygments_lexer": "ipython3",
   "version": "3.7.4"
  }
 },
 "nbformat": 4,
 "nbformat_minor": 2
}
