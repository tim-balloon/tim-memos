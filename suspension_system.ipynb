{
 "cells": [
  {
   "attachments": {},
   "cell_type": "markdown",
   "metadata": {},
   "source": [
    "# Details and FOS Calculation for the Supsension System"
   ]
  },
  {
   "attachments": {},
   "cell_type": "markdown",
   "metadata": {},
   "source": [
    "## Breaking Strength of Suspension Cables\n",
    "\n",
    "We have 6 cables of varying lengths, of two distinct diameters: 13 mm and 19 mm. Refer to `./files/TIM SUSPENSION CABLES REV A SEPT26-2022.pdf` for details; we actually are going to use 19 mm diameter instead of the quoted 18 mm (for better values of breaking strength) and different turnbuckles (due to availability). \n",
    "\n",
    "We purchase our 6 cables with the attached Crosby spelters (compatible with the rest of the assembly), as well as [Green Pin EJ Turnbuckles G6315 1\"$\\times$ 6\" (#SSGPGO2506)](http://www.greenpin.com/en/product/green-pinr-ej-turnbuckle#a_specifications) from [Nelson Wire Rope](https://www.nelsonwirerope.com/) ([catalog](https://indd.adobe.com/view/f5703249-a41b-4a9c-ab27-c0ab4a398243)). Nelson rates the cables to 45.209 and 20.4 US Tons respectively for 19 and 13 mm diameters (these are comparanle to the values Nate works with in his thesis)."
   ]
  },
  {
   "attachments": {},
   "cell_type": "markdown",
   "metadata": {},
   "source": [
    "The constrution of the cables is [CASAR Betalift](https://www.casar.de/Portals/0/Documents/Product-Specs/Betalift_02_2020.pdf?ver=DXyjJKf_BThaLCPJv28a1g%3d%3d), as with BLAST-TNG, which is non-rotation resistant, galvanized, lubricated, and rated to work within a large enough temperature range. In the linked catalog, for the construction we use (2160 $\\text{N/mm}^2$), the cables for 13 mm and 19 mm diameters are rated to 20.39 and 43.91 US Tons respectively. With a abundance of caution, we are going to use these lower numbers in the following Factor of Safety (FOS) calculation. \n",
    "\n",
    "The Ultimate Tensile Strength is 5 times this quoted Rated Capacity."
   ]
  },
  {
   "attachments": {},
   "cell_type": "markdown",
   "metadata": {},
   "source": [
    "## Breaking Strength of Turnbuckles"
   ]
  },
  {
   "attachments": {},
   "cell_type": "markdown",
   "metadata": {},
   "source": [
    "The [Green Pin catalog](https://www.greenpin.com/en/product/green-pinr-ej-turnbuckle#a_specifications) lists the working load limit (WLL) at 4.54 US Tons, at a safety factor of 5. So, the minimum breakng load (MBL) is 22.7 US Tons, which is higher than their corresponding 13 mm diameter cables. So, the limiting factor here has to be the cables. We still do the calculations below for completion though."
   ]
  },
  {
   "attachments": {},
   "cell_type": "markdown",
   "metadata": {},
   "source": [
    "## CSBF Requirements"
   ]
  },
  {
   "attachments": {},
   "cell_type": "markdown",
   "metadata": {},
   "source": [
    "[CSBF's Structural Design Requirements](https://www.csbf.nasa.gov/documents/gondola/820-PG-8700.0.1%20Gondola%20Structural%20Design%20Requirements.pdf) for a suspension system is listed as:\n",
    "> A load 8 times the weight of the payload applied vertically at the suspension point.\n",
    "\n",
    "> For multiple-cable suspension systems, each cable must have an ultimate strength greater than 4 times the weight of the payload divided by the sine of the angle that the cable makes with horizontal ($\\alpha \\geq$ 30 degrees) in a normal flight configuration.\n",
    "\n",
    "(note the *each* for the second requirement; so the 8G load is split between the cables (for suspension), while the 4G load is not)"
   ]
  },
  {
   "attachments": {},
   "cell_type": "markdown",
   "metadata": {},
   "source": [
    "Relevant expressions are in [Nate's thesis](https://repository.upenn.edu/edissertations/3147/) are 4.2-4.3 (though there's a typo in 4.3) and in Section 3.5 of the CSBF guideline.\n",
    "\n",
    "$$F_{nG} = n \\times M / sin \\theta$$\n",
    "$$FOS = F_{breaking} / F_{nG}$$\n",
    "\n",
    "with $n$ being 4 and 8 for the current CSBF guideline.\n",
    "\n",
    "We pick the values for angle with horizonatal $\\theta$ that are *different* from James' [TIM ODRM presentation](https://docs.google.com/presentation/d/1bBOVMKZTYi_infR2a1tj-Xd4C2k9hJUL1wJpEhd7FtU/edit#slide=id.gf905fd1ac0_0_381), reconfirmed from the `October26-2022` SolidWorks assembly by Shubh."
   ]
  },
  {
   "attachments": {},
   "cell_type": "markdown",
   "metadata": {},
   "source": [
    "| Suspension Element | Construction | $\\theta$ (horizontal) | Rated Capacity |\n",
    "| ----------- | ----------- | ----------- | ----------- | \n",
    "| Upper Front Cable | CASAR Betalift 13 mm | 48.176 $\\degree$ | 20.39 US Tons |\n",
    "| Lower Front Cable | CASAR Betalift 13 mm | 75.75 $\\degree$ | 20.39 US Tons | \n",
    "| Rear Cable | CASAR Betalift 19 mm | 65.954 $\\degree$ | 43.91 US Tons |\n",
    "| Front Turnbuckle | Green Pin 1\" $\\times$ 6\" | 75.75 $\\degree$ | 22.7 US Tons | \n",
    "| Rear Turnbuckle | Green Pin 1\" $\\times$ 6\" | 65.954 $\\degree$ | 22.7 US Tons | "
   ]
  },
  {
   "attachments": {},
   "cell_type": "markdown",
   "metadata": {},
   "source": [
    "We work off a nominal upper limit of payload mass of 7000 lbs."
   ]
  },
  {
   "cell_type": "code",
   "execution_count": 24,
   "metadata": {},
   "outputs": [
    {
     "data": {
      "text/html": [
       "<div>\n",
       "<style scoped>\n",
       "    .dataframe tbody tr th:only-of-type {\n",
       "        vertical-align: middle;\n",
       "    }\n",
       "\n",
       "    .dataframe tbody tr th {\n",
       "        vertical-align: top;\n",
       "    }\n",
       "\n",
       "    .dataframe thead th {\n",
       "        text-align: right;\n",
       "    }\n",
       "</style>\n",
       "<table border=\"1\" class=\"dataframe\">\n",
       "  <thead>\n",
       "    <tr style=\"text-align: right;\">\n",
       "      <th></th>\n",
       "      <th>Suspension Element</th>\n",
       "      <th>Construction</th>\n",
       "      <th>theta</th>\n",
       "      <th>Rated Capacity</th>\n",
       "      <th>Ultimate  Tensile Strength</th>\n",
       "      <th>Force (4G)</th>\n",
       "      <th>Force (8G)</th>\n",
       "      <th>FOS (4G)</th>\n",
       "      <th>FOS (8G)</th>\n",
       "    </tr>\n",
       "  </thead>\n",
       "  <tbody>\n",
       "    <tr>\n",
       "      <th>0</th>\n",
       "      <td>Upper Front Cable</td>\n",
       "      <td>CASAR Betalift 13 mm</td>\n",
       "      <td>48.176</td>\n",
       "      <td>20.39</td>\n",
       "      <td>101.95</td>\n",
       "      <td>37573.970173</td>\n",
       "      <td>18786.985087</td>\n",
       "      <td>5.426629</td>\n",
       "      <td>10.853258</td>\n",
       "    </tr>\n",
       "    <tr>\n",
       "      <th>1</th>\n",
       "      <td>Lower Front Cable</td>\n",
       "      <td>CASAR Betalift 13 mm</td>\n",
       "      <td>75.750</td>\n",
       "      <td>20.39</td>\n",
       "      <td>101.95</td>\n",
       "      <td>28888.884702</td>\n",
       "      <td>14444.442351</td>\n",
       "      <td>7.058078</td>\n",
       "      <td>14.116156</td>\n",
       "    </tr>\n",
       "    <tr>\n",
       "      <th>2</th>\n",
       "      <td>Rear Cable</td>\n",
       "      <td>CASAR Betalift 19 mm</td>\n",
       "      <td>65.954</td>\n",
       "      <td>43.91</td>\n",
       "      <td>219.55</td>\n",
       "      <td>30660.785453</td>\n",
       "      <td>15330.392726</td>\n",
       "      <td>14.321225</td>\n",
       "      <td>28.642450</td>\n",
       "    </tr>\n",
       "    <tr>\n",
       "      <th>3</th>\n",
       "      <td>Front Turnbuckle</td>\n",
       "      <td>Green Pin</td>\n",
       "      <td>75.750</td>\n",
       "      <td>22.70</td>\n",
       "      <td>113.50</td>\n",
       "      <td>28888.884702</td>\n",
       "      <td>14444.442351</td>\n",
       "      <td>7.857693</td>\n",
       "      <td>15.715387</td>\n",
       "    </tr>\n",
       "    <tr>\n",
       "      <th>4</th>\n",
       "      <td>Rear Turnbuckle</td>\n",
       "      <td>Green Pin</td>\n",
       "      <td>65.954</td>\n",
       "      <td>22.70</td>\n",
       "      <td>113.50</td>\n",
       "      <td>30660.785453</td>\n",
       "      <td>15330.392726</td>\n",
       "      <td>7.403594</td>\n",
       "      <td>14.807188</td>\n",
       "    </tr>\n",
       "  </tbody>\n",
       "</table>\n",
       "</div>"
      ],
      "text/plain": [
       "  Suspension Element          Construction   theta  Rated Capacity  \\\n",
       "0  Upper Front Cable  CASAR Betalift 13 mm  48.176           20.39   \n",
       "1  Lower Front Cable  CASAR Betalift 13 mm  75.750           20.39   \n",
       "2         Rear Cable  CASAR Betalift 19 mm  65.954           43.91   \n",
       "3   Front Turnbuckle             Green Pin  75.750           22.70   \n",
       "4    Rear Turnbuckle             Green Pin  65.954           22.70   \n",
       "\n",
       "   Ultimate  Tensile Strength    Force (4G)    Force (8G)   FOS (4G)  \\\n",
       "0                      101.95  37573.970173  18786.985087   5.426629   \n",
       "1                      101.95  28888.884702  14444.442351   7.058078   \n",
       "2                      219.55  30660.785453  15330.392726  14.321225   \n",
       "3                      113.50  28888.884702  14444.442351   7.857693   \n",
       "4                      113.50  30660.785453  15330.392726   7.403594   \n",
       "\n",
       "    FOS (8G)  \n",
       "0  10.853258  \n",
       "1  14.116156  \n",
       "2  28.642450  \n",
       "3  15.715387  \n",
       "4  14.807188  "
      ]
     },
     "execution_count": 24,
     "metadata": {},
     "output_type": "execute_result"
    }
   ],
   "source": [
    "import pandas as pd\n",
    "import numpy as np\n",
    "\n",
    "mass = 7000 # lbs\n",
    "\n",
    "df = pd.DataFrame({'Suspension Element': ['Upper Front Cable', 'Lower Front Cable', 'Rear Cable', 'Front Turnbuckle', 'Rear Turnbuckle'],\n",
    "    'Construction': ['CASAR Betalift 13 mm', 'CASAR Betalift 13 mm', 'CASAR Betalift 19 mm', 'Green Pin', 'Green Pin'],\n",
    "    'theta': [48.176, 75.75, 65.954, 75.75, 65.954], 'Rated Capacity': [20.39, 20.39, 43.91, 22.7, 22.7]})\n",
    "\n",
    "df['Ultimate  Tensile Strength'] = df['Rated Capacity'] * 5\n",
    "\n",
    "df['Force (4G)'] = mass * 4 / np.sin(np.deg2rad(df['theta']))\n",
    "df['Force (8G)'] = mass * 8 / np.sin(np.deg2rad(df['theta'])) / 4\n",
    "\n",
    "df['FOS (4G)'] =  df['Ultimate  Tensile Strength'] * 2000 / df['Force (4G)']\n",
    "df['FOS (8G)'] = df['Ultimate  Tensile Strength'] * 2000 / df['Force (8G)']\n",
    "\n",
    "df"
   ]
  },
  {
   "cell_type": "code",
   "execution_count": 5,
   "metadata": {},
   "outputs": [
    {
     "data": {
      "text/plain": [
       "(90.0, 90.0)"
      ]
     },
     "execution_count": 5,
     "metadata": {},
     "output_type": "execute_result"
    }
   ],
   "source": [
    "48.176 + 41.824, 65.954 + 24.046"
   ]
  }
 ],
 "metadata": {
  "kernelspec": {
   "display_name": "shubh",
   "language": "python",
   "name": "python3"
  },
  "language_info": {
   "codemirror_mode": {
    "name": "ipython",
    "version": 3
   },
   "file_extension": ".py",
   "mimetype": "text/x-python",
   "name": "python",
   "nbconvert_exporter": "python",
   "pygments_lexer": "ipython3",
   "version": "3.8.13"
  },
  "orig_nbformat": 4,
  "vscode": {
   "interpreter": {
    "hash": "a155f07705480a249d6f18f52baa3789778be87ba99967444f3a2b15f4a8c613"
   }
  }
 },
 "nbformat": 4,
 "nbformat_minor": 2
}
