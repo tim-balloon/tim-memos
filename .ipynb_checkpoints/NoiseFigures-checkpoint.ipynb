{
 "cells": [
  {
   "cell_type": "code",
   "execution_count": 1,
   "id": "03cef710",
   "metadata": {},
   "outputs": [],
   "source": [
    "import numpy as np\n",
    "from astropy import units as u, constants as c\n",
    "from astropy.cosmology import Planck18"
   ]
  },
  {
   "cell_type": "code",
   "execution_count": 2,
   "id": "c777a37c",
   "metadata": {},
   "outputs": [],
   "source": [
    "def Qprint(_quantity,sigfig=3,style='s'):\n",
    "    \"\"\" wrap up the syntax for printing astropy Quantity objects in a pretty \n",
    "    way. Other options for style inclue 'latex' \"\"\"\n",
    "    \n",
    "    # If the quantity has no units, assume dimensionless\n",
    "    if not hasattr(_quantity, 'unit'):\n",
    "        quantity = _quantity*u.dimensionless_unscaled\n",
    "    else:\n",
    "        quantity = _quantity\n",
    "    \n",
    "    # Need to make a zero padded string with the number of significant figures\n",
    "    sf = str(sigfig).zfill(3) \n",
    "    fmtstr = '{0.value:0.'+sf+'g} {0.unit:'+style+'}'\n",
    "    x = fmtstr.format(quantity, sigfig) \n",
    "    \n",
    "    return x"
   ]
  },
  {
   "cell_type": "code",
   "execution_count": 3,
   "id": "dc4cbb5f",
   "metadata": {},
   "outputs": [
    {
     "name": "stdout",
     "output_type": "stream",
     "text": [
      "1.901 THz\n"
     ]
    }
   ],
   "source": [
    "lambda_CII = 157.7*u.micron\n",
    "nu_CII = (c.c/lambda_CII).to(u.THz)\n",
    "print(Qprint(nu_CII, sigfig=5))"
   ]
  },
  {
   "cell_type": "code",
   "execution_count": 4,
   "id": "74692c90",
   "metadata": {},
   "outputs": [],
   "source": [
    "NEPu = u.W*np.power(u.Hz,-0.5)\n",
    "NEIu = u.Jy/u.sr*np.power(u.s, 0.5) # surface brightness\n",
    "NEFDu = u.mJy*np.power(u.s, 0.5)\n",
    "NELu = u.W/u.m**2*np.power(u.s, 0.5)"
   ]
  },
  {
   "cell_type": "code",
   "execution_count": 5,
   "id": "14da7db7",
   "metadata": {},
   "outputs": [
    {
     "name": "stdout",
     "output_type": "stream",
     "text": [
      "0.47 GHz\n",
      "0.356 Jy\n",
      "108 Jy km / s\n"
     ]
    }
   ],
   "source": [
    "# Gullberg\n",
    "# Check conversions\n",
    "L_BG = 3.8e10*c.L_sun\n",
    "z_BG = 3.09\n",
    "dv_BG = 304*u.km/u.s\n",
    "# Convert to Jy?\n",
    "nu_CII = (c.c/(158*u.micron)).to(u.Hz)\n",
    "# Calculate observed bandwidth\n",
    "dnu_obs_BG = (dv_BG/c.c * nu_CII/(1+z_BG)).to(u.Hz)\n",
    "print(Qprint(dnu_obs_BG.to(u.GHz)))\n",
    "Jy_BG = (L_BG/(4.*np.pi*Planck18.luminosity_distance(z_BG)**2)/dnu_obs_BG).to(u.Jy)\n",
    "print(Qprint(Jy_BG))\n",
    "print(Qprint((Jy_BG * dv_BG).to(u.Jy*u.km/u.s)))"
   ]
  },
  {
   "cell_type": "code",
   "execution_count": 6,
   "id": "74fc93b5",
   "metadata": {},
   "outputs": [],
   "source": [
    "@u.quantity_input\n",
    "def NEP_photon(nu : u.Hz, loading: u.W) -> NEPu:\n",
    "    \n",
    "    ''' nu : the center frequency of a detector's band \n",
    "        loading : the total power in W falling on a detector, factoring all bandwidth-defining features in the instrument\n",
    "    '''\n",
    "    \n",
    "    nep = np.sqrt(2* c.h * nu * loading).to(NEPu)\n",
    "    \n",
    "    return nep"
   ]
  },
  {
   "cell_type": "code",
   "execution_count": 28,
   "id": "450eebad",
   "metadata": {
    "scrolled": false
   },
   "outputs": [
    {
     "name": "stdout",
     "output_type": "stream",
     "text": [
      "1.08 THz 0.814 THz\n",
      "4.31 GHz 3.25 GHz\n",
      "350 fW 200 fW\n",
      "2.23e-17 W / Hz(1/2) 1.47e-17 W / Hz(1/2)\n"
     ]
    }
   ],
   "source": [
    "# Some fiducial values\n",
    "lambda_sw = (240+317)/2*u.micron\n",
    "lambda_lw = (317+420)/2*u.micron\n",
    "nu_sw = (c.c/lambda_sw).to(u.Hz)\n",
    "nu_lw = (c.c/lambda_lw).to(u.Hz)\n",
    "dnu_sw = nu_sw/250\n",
    "dnu_lw = nu_lw/250\n",
    "eta_lw = 0.14\n",
    "eta_sw = 0.14\n",
    "\n",
    "D = 1.8*u.m # nominal illuminated diameter\n",
    "A = np.power(D/2, 2) * np.pi # nominal geometric area\n",
    "Omega_sw = (1.22 * lambda_sw / D).to(u.dimensionless_unscaled)*u.sr\n",
    "Omega_lw = (1.22 * lambda_sw / D).to(u.dimensionless_unscaled)*u.sr\n",
    "\n",
    "print(Qprint(nu_sw.to(u.THz)), Qprint(nu_lw.to(u.THz)))\n",
    "print(Qprint(dnu_sw.to(u.GHz)), Qprint(dnu_lw.to(u.GHz)))\n",
    "\n",
    "# 2017\n",
    "loading_sw = 350*u.fW # * (12.4/8.43)**2\n",
    "loading_lw = 200*u.fW # * (6.8/3.92)**2\n",
    "nep_sw = NEP_photon(nu_sw, loading_sw) # 400?\n",
    "nep_lw = NEP_photon(nu_lw, loading_lw) # 200?\n",
    "\n",
    "print(Qprint(loading_sw), Qprint(loading_lw))\n",
    "print(Qprint(nep_sw), Qprint(nep_lw))"
   ]
  },
  {
   "cell_type": "code",
   "execution_count": 29,
   "id": "4a7119de",
   "metadata": {},
   "outputs": [],
   "source": [
    "@u.quantity_input\n",
    "def NEI(NEP : NEPu, nu :u.Hz, dnu : u.Hz, eta) -> NEIu:\n",
    "    \n",
    "    ''' \n",
    "        Assumes all noise sources are in NEP, which accounts for photon noise _at the detector_ \n",
    "        nu : central frequency\n",
    "        dnu : optical bandwidth\n",
    "        eta : optical efficiency between sky and detector\n",
    "    '''\n",
    "    \n",
    "    lmbda = c.c/nu\n",
    "    AOmega = (lmbda**2 * u.sr).to(u.m**2 * u.sr)\n",
    "    \n",
    "    nei = (NEP*np.sqrt(2) / dnu / eta / AOmega).to(NEIu) \n",
    "    \n",
    "    return nei\n",
    "\n",
    "def NEFD(NEP : NEPu, dnu : u.Hz, A: u.m**2, eta) -> NEFDu:\n",
    "    \n",
    "    nefd = (NEP*np.sqrt(2) / dnu / eta / A).to(NEFDu)\n",
    "    \n",
    "    return nefd\n",
    "\n",
    "def NEL(NEP : NEPu, A: u.m**2, eta) -> NELu:\n",
    "    \n",
    "    nel = (NEP*np.sqrt(2) / eta / A).to(NELu)\n",
    "    \n",
    "    return nel"
   ]
  },
  {
   "cell_type": "code",
   "execution_count": 30,
   "id": "7d12be0d",
   "metadata": {},
   "outputs": [],
   "source": [
    "nei_sw = NEI(nep_sw, nu_sw, dnu_sw, eta_sw)\n",
    "nei_lw = NEI(nep_lw, nu_lw, dnu_lw, eta_lw)\n",
    "\n",
    "nefd_sw = NEFD(nep_sw, dnu_sw, A, eta_sw)\n",
    "nefd_lw = NEFD(nep_lw, dnu_lw, A, eta_lw)\n",
    "\n",
    "nel_sw = NEL(nep_sw, A, eta_sw)\n",
    "nel_lw = NEL(nep_lw, A, eta_lw)"
   ]
  },
  {
   "cell_type": "code",
   "execution_count": 31,
   "id": "9b314dc1",
   "metadata": {},
   "outputs": [
    {
     "name": "stdout",
     "output_type": "stream",
     "text": [
      "6.76e+07 Jy s(1/2) / sr 3.36e+07 Jy s(1/2) / sr\n",
      "2.06e+03 mJy s(1/2) 1.79e+03 mJy s(1/2)\n",
      "8.87e-17 s(1/2) W / m2 5.83e-17 s(1/2) W / m2\n"
     ]
    }
   ],
   "source": [
    "print(Qprint(nei_sw), Qprint(nei_lw))\n",
    "print(Qprint(nefd_sw), Qprint(nefd_lw))\n",
    "print(Qprint(nel_sw), Qprint(nel_lw))"
   ]
  },
  {
   "cell_type": "code",
   "execution_count": 11,
   "id": "e33721ec",
   "metadata": {},
   "outputs": [
    {
     "name": "stdout",
     "output_type": "stream",
     "text": [
      "0.766  1.34 \n"
     ]
    }
   ],
   "source": [
    "z_sw = lambda_sw/lambda_CII - 1\n",
    "z_lw = lambda_lw/lambda_CII - 1\n",
    "print(Qprint(z_sw), Qprint(z_lw))"
   ]
  },
  {
   "cell_type": "code",
   "execution_count": 12,
   "id": "5a3a993c",
   "metadata": {},
   "outputs": [],
   "source": [
    "# 5 sigma, 1 hour limit, in luminosity\n",
    "thresh_line_sw = (nel_sw / np.sqrt(3600*u.s) * 5. * (4.*np.pi*Planck18.luminosity_distance(z_sw)**2)).to(u.L_sun)\n",
    "thresh_line_lw = (nel_lw / np.sqrt(3600*u.s) * 5. * (4.*np.pi*Planck18.luminosity_distance(z_lw)**2)).to(u.L_sun)"
   ]
  },
  {
   "cell_type": "code",
   "execution_count": 13,
   "id": "ef385b94",
   "metadata": {},
   "outputs": [
    {
     "name": "stdout",
     "output_type": "stream",
     "text": [
      "1.02e+10 solLum 2.9e+10 solLum\n"
     ]
    }
   ],
   "source": [
    "print(Qprint(thresh_line_sw), Qprint(thresh_line_lw))"
   ]
  },
  {
   "cell_type": "code",
   "execution_count": 14,
   "id": "f7ef290e",
   "metadata": {},
   "outputs": [
    {
     "data": {
      "text/plain": [
       "264"
      ]
     },
     "execution_count": 14,
     "metadata": {},
     "output_type": "execute_result"
    }
   ],
   "source": [
    "88*3"
   ]
  },
  {
   "cell_type": "code",
   "execution_count": 20,
   "id": "e4936ad7",
   "metadata": {},
   "outputs": [
    {
     "data": {
      "text/latex": [
       "$2.4488401 \\times 10^{-17} \\; \\mathrm{\\frac{W}{Hz^{1/2}}}$"
      ],
      "text/plain": [
       "<Quantity 2.44884007e-17 W / Hz(1/2)>"
      ]
     },
     "execution_count": 20,
     "metadata": {},
     "output_type": "execute_result"
    }
   ],
   "source": [
    "NEP_photon(c.c/(265*u.micron), 400*u.fW) "
   ]
  },
  {
   "cell_type": "code",
   "execution_count": 27,
   "id": "bd87623c",
   "metadata": {},
   "outputs": [
    {
     "data": {
      "text/plain": [
       "'1.36e+08 Jy s(1/2) / sr'"
      ]
     },
     "execution_count": 27,
     "metadata": {},
     "output_type": "execute_result"
    }
   ],
   "source": [
    "Qprint(NEI(NEP_photon(c.c/(265*u.micron), 400*u.fW), c.c/(265*u.micron), c.c/(265*u.micron)/250, 0.08).to(NEIu))"
   ]
  },
  {
   "cell_type": "code",
   "execution_count": null,
   "id": "71653b80",
   "metadata": {},
   "outputs": [],
   "source": []
  }
 ],
 "metadata": {
  "kernelspec": {
   "display_name": "Python 3 (ipykernel)",
   "language": "python",
   "name": "python3"
  },
  "language_info": {
   "codemirror_mode": {
    "name": "ipython",
    "version": 3
   },
   "file_extension": ".py",
   "mimetype": "text/x-python",
   "name": "python",
   "nbconvert_exporter": "python",
   "pygments_lexer": "ipython3",
   "version": "3.10.9"
  }
 },
 "nbformat": 4,
 "nbformat_minor": 5
}
