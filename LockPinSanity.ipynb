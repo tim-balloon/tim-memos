{
 "cells": [
  {
   "cell_type": "markdown",
   "metadata": {},
   "source": [
    "Assume an Ultra Motion D1-series linear actuator with these properties:"
   ]
  },
  {
   "cell_type": "code",
   "execution_count": 3,
   "metadata": {},
   "outputs": [],
   "source": [
    "stroke_length = 4 # inch\n",
    "screw_pitch = 0.125 # inch/rev\n",
    "steps_per_rev = 200\n",
    "microstep_factor = 256\n",
    "microsteps_per_rev = steps_per_rev * microstep_factor # 1/rev"
   ]
  },
  {
   "cell_type": "markdown",
   "metadata": {},
   "source": [
    "Given an approximate throw required to extend the lock pin, and assuming limit switches configured to match, how far is too far to have gone in either direction, in microsteps?"
   ]
  },
  {
   "cell_type": "code",
   "execution_count": 4,
   "metadata": {},
   "outputs": [],
   "source": [
    "stroke_revs = stroke_length / screw_pitch # rev\n",
    "stroke_microsteps = microsteps_per_rev * stroke_revs # rev * 1/rev\n",
    "stroke_microsteps"
   ]
  }
 ],
 "metadata": {
  "kernelspec": {
   "display_name": "astr",
   "language": "python",
   "name": "python3"
  },
  "language_info": {
   "codemirror_mode": {
    "name": "ipython",
    "version": 3
   },
   "file_extension": ".py",
   "mimetype": "text/x-python",
   "name": "python",
   "nbconvert_exporter": "python",
   "pygments_lexer": "ipython3",
   "version": "3.10.14"
  }
 },
 "nbformat": 4,
 "nbformat_minor": 2
}
